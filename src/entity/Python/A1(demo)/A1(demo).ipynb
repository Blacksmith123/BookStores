{
 "cells": [
  {
   "cell_type": "code",
   "execution_count": 239,
   "metadata": {},
   "outputs": [
    {
     "data": {
      "text/html": [
       "<div>\n",
       "<style scoped>\n",
       "    .dataframe tbody tr th:only-of-type {\n",
       "        vertical-align: middle;\n",
       "    }\n",
       "\n",
       "    .dataframe tbody tr th {\n",
       "        vertical-align: top;\n",
       "    }\n",
       "\n",
       "    .dataframe thead th {\n",
       "        text-align: right;\n",
       "    }\n",
       "</style>\n",
       "<table border=\"1\" class=\"dataframe\">\n",
       "  <thead>\n",
       "    <tr style=\"text-align: right;\">\n",
       "      <th></th>\n",
       "      <th>age</th>\n",
       "      <th>workclass</th>\n",
       "      <th>fnlwgt</th>\n",
       "      <th>education</th>\n",
       "      <th>education-num</th>\n",
       "      <th>marital-status</th>\n",
       "      <th>occupation</th>\n",
       "      <th>relationship</th>\n",
       "      <th>race</th>\n",
       "      <th>sex</th>\n",
       "      <th>capital-gain</th>\n",
       "      <th>capital-loss</th>\n",
       "      <th>hours-per-week</th>\n",
       "      <th>native-country</th>\n",
       "      <th>salary</th>\n",
       "    </tr>\n",
       "  </thead>\n",
       "  <tbody>\n",
       "    <tr>\n",
       "      <th>0</th>\n",
       "      <td>39</td>\n",
       "      <td>State-gov</td>\n",
       "      <td>77516</td>\n",
       "      <td>Bachelors</td>\n",
       "      <td>13</td>\n",
       "      <td>Never-married</td>\n",
       "      <td>Adm-clerical</td>\n",
       "      <td>Not-in-family</td>\n",
       "      <td>White</td>\n",
       "      <td>Male</td>\n",
       "      <td>2174</td>\n",
       "      <td>0</td>\n",
       "      <td>40</td>\n",
       "      <td>United-States</td>\n",
       "      <td>&lt;=50K</td>\n",
       "    </tr>\n",
       "    <tr>\n",
       "      <th>1</th>\n",
       "      <td>50</td>\n",
       "      <td>Self-emp-not-inc</td>\n",
       "      <td>83311</td>\n",
       "      <td>Bachelors</td>\n",
       "      <td>13</td>\n",
       "      <td>Married-civ-spouse</td>\n",
       "      <td>Exec-managerial</td>\n",
       "      <td>Husband</td>\n",
       "      <td>White</td>\n",
       "      <td>Male</td>\n",
       "      <td>0</td>\n",
       "      <td>0</td>\n",
       "      <td>13</td>\n",
       "      <td>United-States</td>\n",
       "      <td>&lt;=50K</td>\n",
       "    </tr>\n",
       "    <tr>\n",
       "      <th>2</th>\n",
       "      <td>38</td>\n",
       "      <td>Private</td>\n",
       "      <td>215646</td>\n",
       "      <td>HS-grad</td>\n",
       "      <td>9</td>\n",
       "      <td>Divorced</td>\n",
       "      <td>Handlers-cleaners</td>\n",
       "      <td>Not-in-family</td>\n",
       "      <td>White</td>\n",
       "      <td>Male</td>\n",
       "      <td>0</td>\n",
       "      <td>0</td>\n",
       "      <td>40</td>\n",
       "      <td>United-States</td>\n",
       "      <td>&lt;=50K</td>\n",
       "    </tr>\n",
       "    <tr>\n",
       "      <th>3</th>\n",
       "      <td>53</td>\n",
       "      <td>Private</td>\n",
       "      <td>234721</td>\n",
       "      <td>11th</td>\n",
       "      <td>7</td>\n",
       "      <td>Married-civ-spouse</td>\n",
       "      <td>Handlers-cleaners</td>\n",
       "      <td>Husband</td>\n",
       "      <td>Black</td>\n",
       "      <td>Male</td>\n",
       "      <td>0</td>\n",
       "      <td>0</td>\n",
       "      <td>40</td>\n",
       "      <td>United-States</td>\n",
       "      <td>&lt;=50K</td>\n",
       "    </tr>\n",
       "    <tr>\n",
       "      <th>4</th>\n",
       "      <td>28</td>\n",
       "      <td>Private</td>\n",
       "      <td>338409</td>\n",
       "      <td>Bachelors</td>\n",
       "      <td>13</td>\n",
       "      <td>Married-civ-spouse</td>\n",
       "      <td>Prof-specialty</td>\n",
       "      <td>Wife</td>\n",
       "      <td>Black</td>\n",
       "      <td>Female</td>\n",
       "      <td>0</td>\n",
       "      <td>0</td>\n",
       "      <td>40</td>\n",
       "      <td>Cuba</td>\n",
       "      <td>&lt;=50K</td>\n",
       "    </tr>\n",
       "  </tbody>\n",
       "</table>\n",
       "</div>"
      ],
      "text/plain": [
       "   age         workclass  fnlwgt  education  education-num  \\\n",
       "0   39         State-gov   77516  Bachelors             13   \n",
       "1   50  Self-emp-not-inc   83311  Bachelors             13   \n",
       "2   38           Private  215646    HS-grad              9   \n",
       "3   53           Private  234721       11th              7   \n",
       "4   28           Private  338409  Bachelors             13   \n",
       "\n",
       "       marital-status         occupation   relationship   race     sex  \\\n",
       "0       Never-married       Adm-clerical  Not-in-family  White    Male   \n",
       "1  Married-civ-spouse    Exec-managerial        Husband  White    Male   \n",
       "2            Divorced  Handlers-cleaners  Not-in-family  White    Male   \n",
       "3  Married-civ-spouse  Handlers-cleaners        Husband  Black    Male   \n",
       "4  Married-civ-spouse     Prof-specialty           Wife  Black  Female   \n",
       "\n",
       "   capital-gain  capital-loss  hours-per-week native-country salary  \n",
       "0          2174             0              40  United-States  <=50K  \n",
       "1             0             0              13  United-States  <=50K  \n",
       "2             0             0              40  United-States  <=50K  \n",
       "3             0             0              40  United-States  <=50K  \n",
       "4             0             0              40           Cuba  <=50K  "
      ]
     },
     "execution_count": 239,
     "metadata": {},
     "output_type": "execute_result"
    }
   ],
   "source": [
    "import pandas as pd\n",
    "data = pd.read_csv('adult.data.csv')\n",
    "data.head()"
   ]
  },
  {
   "cell_type": "code",
   "execution_count": 240,
   "metadata": {},
   "outputs": [
    {
     "name": "stdout",
     "output_type": "stream",
     "text": [
      "sex\n",
      "Male      21790\n",
      "Female    10771\n",
      "Name: count, dtype: int64\n"
     ]
    }
   ],
   "source": [
    "# 1. How many men and women (sex feature) are represented in this dataset?\n",
    "# 1. Có bao nhiêu nam và nữ (đặc điểm giới tính) được thể hiện trong bộ dữ liệu này?\n",
    "import pandas as pd\n",
    "# Tạo DataFrame từ dữ liệu\n",
    "columns = [\"age\", \"sex\"]\n",
    "df = pd.DataFrame(data, columns=columns)\n",
    "# Đếm số lần xuất hiện của mỗi giới tính\n",
    "so_luong_gioi_tinh = df[\"sex\"].value_counts()\n",
    "print(so_luong_gioi_tinh)\n",
    "\n",
    "\n"
   ]
  },
  {
   "cell_type": "code",
   "execution_count": 241,
   "metadata": {},
   "outputs": [
    {
     "name": "stdout",
     "output_type": "stream",
     "text": [
      "36.85823043357163\n"
     ]
    }
   ],
   "source": [
    "# 2. What is the average age (age feature) of women? 2. Độ tuổi trung bình (đặc điểm tuổi) của phụ nữ là bao nhiêu?\n",
    "import pandas as pd\n",
    "# # Create a DataFrame from the data\n",
    "# Calculate the average age of women\n",
    "average_age_women = df[df[\"sex\"] == \"Female\"][\"age\"].mean()\n",
    "print(average_age_women)"
   ]
  },
  {
   "cell_type": "code",
   "execution_count": 242,
   "metadata": {},
   "outputs": [
    {
     "name": "stdout",
     "output_type": "stream",
     "text": [
      "Tỷ lệ công dân Đức: 0.42074874850281013\n"
     ]
    }
   ],
   "source": [
    "# 3. What is the percentage of German citizens (native-country feature)?# Tỷ lệ công dân Đức (đặc điểm dân tộc bản xứ) là bao nhiêu?\n",
    "# Tính tổng số người và số người là công dân Đức\n",
    "total_individuals = len(data)\n",
    "german_citizens = len(data[data['native-country'] == 'Germany'])\n",
    "\n",
    "# Tính tỷ lệ của công dân Đức\n",
    "percentage_german_citizens = (german_citizens / total_individuals) * 100\n",
    "\n",
    "print(\"Tỷ lệ công dân Đức:\", percentage_german_citizens)"
   ]
  },
  {
   "cell_type": "code",
   "execution_count": 243,
   "metadata": {},
   "outputs": [
    {
     "name": "stdout",
     "output_type": "stream",
     "text": [
      "        mean   std\n",
      "salary            \n",
      "<=50K  36.78 14.02\n",
      ">50K   44.25 10.52\n"
     ]
    }
   ],
   "source": [
    "# 4-5. What are the mean and standard deviation of age for those\n",
    "# who earn more than 50K per year (salary feature) and those who earn less than 50K per year?\n",
    "# Giá trị trung bình và độ lệch chuẩn của tuổi đối với những người\n",
    "# người kiếm được hơn 50K mỗi năm (tính năng lương) và những người kiếm được ít hơn 50K mỗi năm?\n",
    "grouped = data.groupby('salary')['age'].agg(['mean', 'std'])\n",
    "print(grouped)"
   ]
  },
  {
   "cell_type": "code",
   "execution_count": 244,
   "metadata": {},
   "outputs": [
    {
     "data": {
      "text/plain": [
       "salary\n",
       ">50K    1675\n",
       "Name: count, dtype: int64"
      ]
     },
     "execution_count": 244,
     "metadata": {},
     "output_type": "execute_result"
    }
   ],
   "source": [
    "# 6. Có đúng là những người kiếm được hơn 50 nghìn đều có trình độ học vấn ít nhất là trung học? (\n",
    "# giáo dục – tính năng Cử nhân, Prof-school, PGS, PGS, PGS, Thạc sĩ hoặc Tiến sĩ)\n",
    "# Kiểm tra xem có đúng là những người kiếm nhiều (>50K) ít nhất có bằng cấp cao trung học?\n",
    "# result = df[df[\"salary\"] == \">50K\"][\"education\"].isin([\"Bachelors\", \"Prof-school\", \"Assoc-acdm\", \"Assoc-voc\", \"Masters\", \"Doctorate\"]).all()\n",
    "# print(\"Có đúng là những người kiếm nhiều (>50K) ít nhất có bằng cấp cao trung học?\", result)\n",
    "import pandas as pd\n",
    "df = pd.DataFrame(data, columns=[\"salary\", \"education\"])\n",
    "columns = [\"salary\", \"education\"]\n",
    "df[(df[\"salary\"]==\">50K\")&(df[\"education\"]==\"HS-grad\")][\"salary\"].value_counts()"
   ]
  },
  {
   "cell_type": "code",
   "execution_count": 245,
   "metadata": {},
   "outputs": [
    {
     "name": "stdout",
     "output_type": "stream",
     "text": [
      "                              count  mean   std   min   25%   50%   75%   max\n",
      "race               sex                                                       \n",
      "Amer-Indian-Eskimo Female    119.00 37.12 13.11 17.00 27.00 36.00 46.00 80.00\n",
      "                   Male      192.00 37.21 12.05 17.00 28.00 35.00 45.00 82.00\n",
      "Asian-Pac-Islander Female    346.00 35.09 12.30 17.00 25.00 33.00 43.75 75.00\n",
      "                   Male      693.00 39.07 12.88 18.00 29.00 37.00 46.00 90.00\n",
      "Black              Female  1,555.00 37.85 12.64 17.00 28.00 37.00 46.00 90.00\n",
      "                   Male    1,569.00 37.68 12.88 17.00 27.00 36.00 46.00 90.00\n",
      "Other              Female    109.00 31.68 11.63 17.00 23.00 29.00 39.00 74.00\n",
      "                   Male      162.00 34.65 11.36 17.00 26.00 32.00 42.00 77.00\n",
      "White              Female  8,642.00 36.81 14.33 17.00 25.00 35.00 46.00 90.00\n",
      "                   Male   19,174.00 39.65 13.44 17.00 29.00 38.00 49.00 90.00\n",
      "Độ tuổi tối đa của nam giới chủng tộc Amer-Indian-Eskimo: 82\n"
     ]
    }
   ],
   "source": [
    "# 7. Display age statistics by race (race feature) and each sex (gender feature). \n",
    "# Use groupby() and describe(). Find the maximum age of males of the Amer-Indian-Eskimo race.\n",
    "# Nhóm dữ liệu theo 'race' và 'sex', và tính thống kê về độ tuổi bằng hàm describe()\n",
    "thong_ke_tuoi = data.groupby(['race', 'sex'])['age'].describe()\n",
    "\n",
    "# Hiển thị thống kê về độ tuổi theo từng chủng tộc và giới tính\n",
    "print(thong_ke_tuoi)\n",
    "\n",
    "# Tìm độ tuổi tối đa của nam giới thuộc chủng tộc Amer-Indian-Eskimo\n",
    "do_tuoi_max_nam_amerindian = data[(data['race'] == 'Amer-Indian-Eskimo') & (data['sex'] == 'Male')]['age'].max()\n",
    "print(\"Độ tuổi tối đa của nam giới chủng tộc Amer-Indian-Eskimo:\", do_tuoi_max_nam_amerindian)"
   ]
  },
  {
   "cell_type": "code",
   "execution_count": 246,
   "metadata": {},
   "outputs": [
    {
     "name": "stdout",
     "output_type": "stream",
     "text": [
      "độ chênh lệch: 0.053038911581339665\n"
     ]
    }
   ],
   "source": [
    "\n",
    "#8. Among whom is the proportion of those who earn a lot (>50K) greater: married or single men (marital-status feature)?\n",
    "# Consider as married those who have a marital-status starting with Married (Married-civ-spouse, Married-spouse-absent or Married-AF-spouse),\n",
    "# the rest are considered bachelors.\n",
    "import pandas as pd\n",
    "df = pd.DataFrame(data, columns=[\"salary\", \"marital-status\"])\n",
    "columns = [\"salary\", \"marital-status\"]\n",
    "sum= len(df[\"marital-status\"])\n",
    "grouped_data = df.groupby(['salary'])\n",
    "data=grouped_data.get_group((\">50K\"))\n",
    "gr=len(df[df[\"marital-status\"].str.startswith(\"Married\")])\n",
    "phantramnguoicogiadinh=gr/sum\n",
    "phantramnguoidocthan=(sum-gr)/sum\n",
    "kq=phantramnguoidocthan-phantramnguoicogiadinh\n",
    "pd.set_option(\"display.precision\", 2)\n",
    "print(\"độ chênh lệch:\",kq)\n"
   ]
  },
  {
   "cell_type": "code",
   "execution_count": 247,
   "metadata": {},
   "outputs": [
    {
     "ename": "KeyError",
     "evalue": "'hours-per-week'",
     "output_type": "error",
     "traceback": [
      "\u001b[1;31m---------------------------------------------------------------------------\u001b[0m",
      "\u001b[1;31mKeyError\u001b[0m                                  Traceback (most recent call last)",
      "File \u001b[1;32m~\\AppData\\Local\\Packages\\PythonSoftwareFoundation.Python.3.11_qbz5n2kfra8p0\\LocalCache\\local-packages\\Python311\\site-packages\\pandas\\core\\indexes\\base.py:3653\u001b[0m, in \u001b[0;36mIndex.get_loc\u001b[1;34m(self, key)\u001b[0m\n\u001b[0;32m   3652\u001b[0m \u001b[39mtry\u001b[39;00m:\n\u001b[1;32m-> 3653\u001b[0m     \u001b[39mreturn\u001b[39;00m \u001b[39mself\u001b[39;49m\u001b[39m.\u001b[39;49m_engine\u001b[39m.\u001b[39;49mget_loc(casted_key)\n\u001b[0;32m   3654\u001b[0m \u001b[39mexcept\u001b[39;00m \u001b[39mKeyError\u001b[39;00m \u001b[39mas\u001b[39;00m err:\n",
      "File \u001b[1;32m~\\AppData\\Local\\Packages\\PythonSoftwareFoundation.Python.3.11_qbz5n2kfra8p0\\LocalCache\\local-packages\\Python311\\site-packages\\pandas\\_libs\\index.pyx:147\u001b[0m, in \u001b[0;36mpandas._libs.index.IndexEngine.get_loc\u001b[1;34m()\u001b[0m\n",
      "File \u001b[1;32m~\\AppData\\Local\\Packages\\PythonSoftwareFoundation.Python.3.11_qbz5n2kfra8p0\\LocalCache\\local-packages\\Python311\\site-packages\\pandas\\_libs\\index.pyx:176\u001b[0m, in \u001b[0;36mpandas._libs.index.IndexEngine.get_loc\u001b[1;34m()\u001b[0m\n",
      "File \u001b[1;32mpandas\\_libs\\hashtable_class_helper.pxi:7080\u001b[0m, in \u001b[0;36mpandas._libs.hashtable.PyObjectHashTable.get_item\u001b[1;34m()\u001b[0m\n",
      "File \u001b[1;32mpandas\\_libs\\hashtable_class_helper.pxi:7088\u001b[0m, in \u001b[0;36mpandas._libs.hashtable.PyObjectHashTable.get_item\u001b[1;34m()\u001b[0m\n",
      "\u001b[1;31mKeyError\u001b[0m: 'hours-per-week'",
      "\nThe above exception was the direct cause of the following exception:\n",
      "\u001b[1;31mKeyError\u001b[0m                                  Traceback (most recent call last)",
      "Cell \u001b[1;32mIn[247], line 4\u001b[0m\n\u001b[0;32m      1\u001b[0m \u001b[39m# 9. Số giờ tối đa một người làm việc mỗi tuần (tính năng giờ mỗi tuần) là bao nhiêu? Có bao nhiêu người làm việc với số giờ như vậy \u001b[39;00m\n\u001b[0;32m      2\u001b[0m \u001b[39m# và tỷ lệ những người kiếm được nhiều (>50 nghìn) t\u001b[39;00m\n\u001b[0;32m      3\u001b[0m \u001b[39m# rong số đó là bao nhiêu?\u001b[39;00m\n\u001b[1;32m----> 4\u001b[0m ax_hours_per_week \u001b[39m=\u001b[39m data[\u001b[39m'\u001b[39;49m\u001b[39mhours-per-week\u001b[39;49m\u001b[39m'\u001b[39;49m]\u001b[39m.\u001b[39mmax()\n\u001b[0;32m      5\u001b[0m people_with_max_hours \u001b[39m=\u001b[39m data[data[\u001b[39m'\u001b[39m\u001b[39mhours-per-week\u001b[39m\u001b[39m'\u001b[39m] \u001b[39m==\u001b[39m max_hours_per_week]\n\u001b[0;32m      6\u001b[0m rich_people_with_max_hours \u001b[39m=\u001b[39m people_with_max_hours[people_with_max_hours[\u001b[39m'\u001b[39m\u001b[39msalary\u001b[39m\u001b[39m'\u001b[39m] \u001b[39m==\u001b[39m \u001b[39m'\u001b[39m\u001b[39m>50K\u001b[39m\u001b[39m'\u001b[39m]\n",
      "File \u001b[1;32m~\\AppData\\Local\\Packages\\PythonSoftwareFoundation.Python.3.11_qbz5n2kfra8p0\\LocalCache\\local-packages\\Python311\\site-packages\\pandas\\core\\frame.py:3761\u001b[0m, in \u001b[0;36mDataFrame.__getitem__\u001b[1;34m(self, key)\u001b[0m\n\u001b[0;32m   3759\u001b[0m \u001b[39mif\u001b[39;00m \u001b[39mself\u001b[39m\u001b[39m.\u001b[39mcolumns\u001b[39m.\u001b[39mnlevels \u001b[39m>\u001b[39m \u001b[39m1\u001b[39m:\n\u001b[0;32m   3760\u001b[0m     \u001b[39mreturn\u001b[39;00m \u001b[39mself\u001b[39m\u001b[39m.\u001b[39m_getitem_multilevel(key)\n\u001b[1;32m-> 3761\u001b[0m indexer \u001b[39m=\u001b[39m \u001b[39mself\u001b[39;49m\u001b[39m.\u001b[39;49mcolumns\u001b[39m.\u001b[39;49mget_loc(key)\n\u001b[0;32m   3762\u001b[0m \u001b[39mif\u001b[39;00m is_integer(indexer):\n\u001b[0;32m   3763\u001b[0m     indexer \u001b[39m=\u001b[39m [indexer]\n",
      "File \u001b[1;32m~\\AppData\\Local\\Packages\\PythonSoftwareFoundation.Python.3.11_qbz5n2kfra8p0\\LocalCache\\local-packages\\Python311\\site-packages\\pandas\\core\\indexes\\base.py:3655\u001b[0m, in \u001b[0;36mIndex.get_loc\u001b[1;34m(self, key)\u001b[0m\n\u001b[0;32m   3653\u001b[0m     \u001b[39mreturn\u001b[39;00m \u001b[39mself\u001b[39m\u001b[39m.\u001b[39m_engine\u001b[39m.\u001b[39mget_loc(casted_key)\n\u001b[0;32m   3654\u001b[0m \u001b[39mexcept\u001b[39;00m \u001b[39mKeyError\u001b[39;00m \u001b[39mas\u001b[39;00m err:\n\u001b[1;32m-> 3655\u001b[0m     \u001b[39mraise\u001b[39;00m \u001b[39mKeyError\u001b[39;00m(key) \u001b[39mfrom\u001b[39;00m \u001b[39merr\u001b[39;00m\n\u001b[0;32m   3656\u001b[0m \u001b[39mexcept\u001b[39;00m \u001b[39mTypeError\u001b[39;00m:\n\u001b[0;32m   3657\u001b[0m     \u001b[39m# If we have a listlike key, _check_indexing_error will raise\u001b[39;00m\n\u001b[0;32m   3658\u001b[0m     \u001b[39m#  InvalidIndexError. Otherwise we fall through and re-raise\u001b[39;00m\n\u001b[0;32m   3659\u001b[0m     \u001b[39m#  the TypeError.\u001b[39;00m\n\u001b[0;32m   3660\u001b[0m     \u001b[39mself\u001b[39m\u001b[39m.\u001b[39m_check_indexing_error(key)\n",
      "\u001b[1;31mKeyError\u001b[0m: 'hours-per-week'"
     ]
    }
   ],
   "source": [
    "# 9. Số giờ tối đa một người làm việc mỗi tuần (tính năng giờ mỗi tuần) là bao nhiêu? Có bao nhiêu người làm việc với số giờ như vậy \n",
    "# và tỷ lệ những người kiếm được nhiều (>50 nghìn) t\n",
    "# rong số đó là bao nhiêu?\n",
    "ax_hours_per_week = data['hours-per-week'].max()\n",
    "people_with_max_hours = data[data['hours-per-week'] == max_hours_per_week]\n",
    "rich_people_with_max_hours = people_with_max_hours[people_with_max_hours['salary'] == '>50K']\n",
    "percentage_rich = (len(rich_people_with_max_hours) / len(people_with_max_hours)) * 100\n",
    "\n",
    "print(\"Giờ làm nhiều nhất mỗi tuần:\", max_hours_per_week)\n",
    "print(\"Số người làm việc \" + str(max_hours_per_week) + \" giờ mỗi tuần:\", len(people_with_max_hours))\n",
    "print(\"Số người có thu nhập >50K trong số họ:\", len(rich_people_with_max_hours))\n",
    "print(\"Tỷ lệ người có thu nhập >50K trong số họ: {:.2f}%\".format(percentage_rich))\n"
   ]
  },
  {
   "cell_type": "code",
   "execution_count": null,
   "metadata": {},
   "outputs": [
    {
     "name": "stdout",
     "output_type": "stream",
     "text": [
      "Số giờ trung bình mỗi tuần cho người có thu nhập <=50K tại Nhật Bản: 41.0\n",
      "Số giờ trung bình mỗi tuần cho người có thu nhập >50K tại Nhật Bản: 47.958333333333336\n"
     ]
    }
   ],
   "source": [
    "# 10. Count the average time of work (hours-per-week) for those who earn a little and a lot (salary) \n",
    "# for each country (native-country). What will these be for Japan?\n",
    "average_hours_per_week = data.groupby(['native-country', 'salary'])['hours-per-week'].mean()\n",
    "average_hours_japan = average_hours_per_week.loc['Japan']\n",
    "\n",
    "print(\"Số giờ trung bình mỗi tuần cho người có thu nhập <=50K tại Nhật Bản:\", average_hours_japan['<=50K'])\n",
    "print(\"Số giờ trung bình mỗi tuần cho người có thu nhập >50K tại Nhật Bản:\", average_hours_japan['>50K'])"
   ]
  }
 ],
 "metadata": {
  "kernelspec": {
   "display_name": "Python 3",
   "language": "python",
   "name": "python3"
  },
  "language_info": {
   "codemirror_mode": {
    "name": "ipython",
    "version": 3
   },
   "file_extension": ".py",
   "mimetype": "text/x-python",
   "name": "python",
   "nbconvert_exporter": "python",
   "pygments_lexer": "ipython3",
   "version": "3.11.5"
  },
  "orig_nbformat": 4
 },
 "nbformat": 4,
 "nbformat_minor": 2
}

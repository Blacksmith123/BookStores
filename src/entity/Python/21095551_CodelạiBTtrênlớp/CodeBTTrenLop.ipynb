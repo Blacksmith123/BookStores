{
 "cells": [
  {
   "cell_type": "code",
   "execution_count": 22,
   "metadata": {},
   "outputs": [],
   "source": [
    "import pandas as pd"
   ]
  },
  {
   "cell_type": "code",
   "execution_count": 23,
   "metadata": {},
   "outputs": [],
   "source": [
    "\n",
    "\n",
    "df = pd.DataFrame({\n",
    "    'matruong': ['s001','s002','s003','s001','s002','s004'],\n",
    "    'lop': ['V', 'V', 'VI', 'VI', 'V', 'VI'],\n",
    "    'ten': ['Alberto Franco','Gino Mcneill','Ryan Parkes', 'Eesha Hinton', 'Gino Mcneill', 'David Parkes'],\n",
    "    'ngaysinh': ['15/05/2002','17/05/2002','16/02/1999','25/09/1998','11/05/2002','15/09/1997'],\n",
    "    'cannang': [35, 32, 33, 30, 31, 32],\n",
    "    'diachi': ['street1', 'street2', 'street3', 'street1', 'street2', 'street4'],\n",
    "    't_id':['t1', 't2', 't3', 't4', 't5', 't6']})\n",
    " \n",
    "\n"
   ]
  },
  {
   "cell_type": "code",
   "execution_count": 24,
   "metadata": {},
   "outputs": [
    {
     "data": {
      "text/html": [
       "<div>\n",
       "<style scoped>\n",
       "    .dataframe tbody tr th:only-of-type {\n",
       "        vertical-align: middle;\n",
       "    }\n",
       "\n",
       "    .dataframe tbody tr th {\n",
       "        vertical-align: top;\n",
       "    }\n",
       "\n",
       "    .dataframe thead th {\n",
       "        text-align: right;\n",
       "    }\n",
       "</style>\n",
       "<table border=\"1\" class=\"dataframe\">\n",
       "  <thead>\n",
       "    <tr style=\"text-align: right;\">\n",
       "      <th></th>\n",
       "      <th>matruong</th>\n",
       "      <th>lop</th>\n",
       "      <th>ten</th>\n",
       "      <th>ngaysinh</th>\n",
       "      <th>cannang</th>\n",
       "      <th>diachi</th>\n",
       "      <th>t_id</th>\n",
       "    </tr>\n",
       "  </thead>\n",
       "  <tbody>\n",
       "    <tr>\n",
       "      <th>0</th>\n",
       "      <td>s001</td>\n",
       "      <td>V</td>\n",
       "      <td>Alberto Franco</td>\n",
       "      <td>15/05/2002</td>\n",
       "      <td>35</td>\n",
       "      <td>street1</td>\n",
       "      <td>t1</td>\n",
       "    </tr>\n",
       "    <tr>\n",
       "      <th>1</th>\n",
       "      <td>s002</td>\n",
       "      <td>V</td>\n",
       "      <td>Gino Mcneill</td>\n",
       "      <td>17/05/2002</td>\n",
       "      <td>32</td>\n",
       "      <td>street2</td>\n",
       "      <td>t2</td>\n",
       "    </tr>\n",
       "    <tr>\n",
       "      <th>2</th>\n",
       "      <td>s003</td>\n",
       "      <td>VI</td>\n",
       "      <td>Ryan Parkes</td>\n",
       "      <td>16/02/1999</td>\n",
       "      <td>33</td>\n",
       "      <td>street3</td>\n",
       "      <td>t3</td>\n",
       "    </tr>\n",
       "    <tr>\n",
       "      <th>3</th>\n",
       "      <td>s001</td>\n",
       "      <td>VI</td>\n",
       "      <td>Eesha Hinton</td>\n",
       "      <td>25/09/1998</td>\n",
       "      <td>30</td>\n",
       "      <td>street1</td>\n",
       "      <td>t4</td>\n",
       "    </tr>\n",
       "    <tr>\n",
       "      <th>4</th>\n",
       "      <td>s002</td>\n",
       "      <td>V</td>\n",
       "      <td>Gino Mcneill</td>\n",
       "      <td>11/05/2002</td>\n",
       "      <td>31</td>\n",
       "      <td>street2</td>\n",
       "      <td>t5</td>\n",
       "    </tr>\n",
       "  </tbody>\n",
       "</table>\n",
       "</div>"
      ],
      "text/plain": [
       "  matruong lop             ten    ngaysinh  cannang   diachi t_id\n",
       "0     s001   V  Alberto Franco  15/05/2002       35  street1   t1\n",
       "1     s002   V    Gino Mcneill  17/05/2002       32  street2   t2\n",
       "2     s003  VI     Ryan Parkes  16/02/1999       33  street3   t3\n",
       "3     s001  VI    Eesha Hinton  25/09/1998       30  street1   t4\n",
       "4     s002   V    Gino Mcneill  11/05/2002       31  street2   t5"
      ]
     },
     "execution_count": 24,
     "metadata": {},
     "output_type": "execute_result"
    }
   ],
   "source": [
    "df.head()"
   ]
  },
  {
   "cell_type": "code",
   "execution_count": 25,
   "metadata": {},
   "outputs": [],
   "source": [
    "# Câu 01: Write a Pandas program to display the default index and set a column as an index in a given dataframe\n",
    "df1=df.set_index('t_id')"
   ]
  },
  {
   "cell_type": "code",
   "execution_count": 26,
   "metadata": {},
   "outputs": [
    {
     "name": "stdout",
     "output_type": "stream",
     "text": [
      "         matruong             ten    ngaysinh  cannang   diachi\n",
      "lop t_id                                                       \n",
      "V   t1       s001  Alberto Franco  15/05/2002       35  street1\n",
      "    t2       s002    Gino Mcneill  17/05/2002       32  street2\n",
      "VI  t3       s003     Ryan Parkes  16/02/1999       33  street3\n",
      "    t4       s001    Eesha Hinton  25/09/1998       30  street1\n",
      "V   t5       s002    Gino Mcneill  11/05/2002       31  street2\n",
      "VI  t6       s004    David Parkes  15/09/1997       32  street4\n",
      "-----------------------------------------------------------------\n",
      "       matruong lop             ten    ngaysinh  cannang   diachi\n",
      "  t_id                                                           \n",
      "1 t1       s001   V  Alberto Franco  15/05/2002       35  street1\n",
      "2 t2       s002   V    Gino Mcneill  17/05/2002       32  street2\n",
      "3 t3       s003  VI     Ryan Parkes  16/02/1999       33  street3\n",
      "4 t4       s001  VI    Eesha Hinton  25/09/1998       30  street1\n",
      "5 t5       s002   V    Gino Mcneill  11/05/2002       31  street2\n",
      "6 t6       s004  VI    David Parkes  15/09/1997       32  street4\n"
     ]
    }
   ],
   "source": [
    "# Câu 02: Write a Pandas program to create a multi index frame using two columns and using an index and a column.\n",
    "df2=df.set_index(['lop','t_id'])\n",
    "print(df2)\n",
    "print('-----------------------------------------------------------------')\n",
    "df3=df.set_index([pd.Index([1,2,3,4,5,6]),'t_id'])\n",
    "print(df3)"
   ]
  },
  {
   "cell_type": "code",
   "execution_count": 36,
   "metadata": {},
   "outputs": [
    {
     "name": "stdout",
     "output_type": "stream",
     "text": [
      "     matruong lop             ten    ngaysinh  cannang   diachi\n",
      "t_id                                                           \n",
      "t1       s001   V  Alberto Franco  15/05/2002       35  street1\n",
      "t2       s002   V    Gino Mcneill  17/05/2002       32  street2\n",
      "t3       s003  VI     Ryan Parkes  16/02/1999       33  street3\n",
      "t4       s001  VI    Eesha Hinton  25/09/1998       30  street1\n",
      "t5       s002   V    Gino Mcneill  11/05/2002       31  street2\n",
      "t6       s004  VI    David Parkes  15/09/1997       32  street4\n",
      "-----------------------------------------------------------------\n",
      "  t_id matruong lop             ten    ngaysinh  cannang   diachi\n",
      "0   t1     s001   V  Alberto Franco  15/05/2002       35  street1\n",
      "1   t2     s002   V    Gino Mcneill  17/05/2002       32  street2\n",
      "2   t3     s003  VI     Ryan Parkes  16/02/1999       33  street3\n",
      "3   t4     s001  VI    Eesha Hinton  25/09/1998       30  street1\n",
      "4   t5     s002   V    Gino Mcneill  11/05/2002       31  street2\n",
      "5   t6     s004  VI    David Parkes  15/09/1997       32  street4\n"
     ]
    }
   ],
   "source": [
    "# Câu 03: Write a Pandas program to display the default index and set a column as an index in a given dataframe and then reset the index.\n",
    "df4= df.set_index('t_id')\n",
    "print(df4)   \n",
    "print('-----------------------------------------------------------------')\n",
    "df5 =df4.reset_index(inplace=False)\n",
    "print(df5)"
   ]
  }
 ],
 "metadata": {
  "kernelspec": {
   "display_name": "Python 3",
   "language": "python",
   "name": "python3"
  },
  "language_info": {
   "codemirror_mode": {
    "name": "ipython",
    "version": 3
   },
   "file_extension": ".py",
   "mimetype": "text/x-python",
   "name": "python",
   "nbconvert_exporter": "python",
   "pygments_lexer": "ipython3",
   "version": "3.11.5"
  },
  "orig_nbformat": 4
 },
 "nbformat": 4,
 "nbformat_minor": 2
}
